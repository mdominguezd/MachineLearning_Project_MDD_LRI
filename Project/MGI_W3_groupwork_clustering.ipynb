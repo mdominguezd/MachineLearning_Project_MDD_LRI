{
 "cells": [
  {
   "cell_type": "markdown",
   "metadata": {
    "id": "LTIfXJVOO4GT"
   },
   "source": [
    "`WUR Machine Learning Course - Project Assignment 3 - Version 2022`\n",
    "\n",
    "# **Clustering with K-Means**\n",
    "Clustering helps to understand how data samples are related to each other. Clusters are composed by points that are similar to each other, but relatively different to the rest of points. Clustering methods do not need data labels and therefore are called *unsupervised*, as opposed to supervised ones that we discussed in the previous exercises. In datasets where no labels are available, finding clusters of data points can help grouping the data samples in a principled way.\n",
    "\n",
    "# **Instructions**\n",
    "In this exercise you will code the k-means algorithm by prototyping on a synthetic dataset, and then use it to find clusters of world cities based on some of their statistics. You will then analyze the clusters to characterize the different types of cities based on their clustering."
   ]
  },
  {
   "cell_type": "markdown",
   "metadata": {
    "id": "3TCquC0yfgQQ"
   },
   "source": [
    "# **Environment set-up**"
   ]
  },
  {
   "cell_type": "code",
   "execution_count": 22,
   "metadata": {
    "id": "fOxdVG67i2M_",
    "tags": []
   },
   "outputs": [],
   "source": [
    "## Importing tabular data\n",
    "import pandas as pd\n",
    "\n",
    "## Plotting and visualization\n",
    "from matplotlib import pyplot as plt\n",
    "\n",
    "import numpy as np\n",
    "import random\n",
    "from sklearn.metrics.pairwise import pairwise_distances\n",
    "import os"
   ]
  },
  {
   "cell_type": "markdown",
   "metadata": {
    "id": "EKgLgVTbQHGI"
   },
   "source": [
    "# **Importing files to Colab**\n",
    "\n",
    "Run the cell below and check if there is a new folder created on colab with the name `data` containing several `.csv` files with data."
   ]
  },
  {
   "cell_type": "code",
   "execution_count": 23,
   "metadata": {
    "colab": {
     "base_uri": "https://localhost:8080/"
    },
    "id": "k3xbFniQdyRh",
    "outputId": "1541fde1-74a6-4cc8-a6cf-143e87f3456a",
    "tags": []
   },
   "outputs": [
    {
     "name": "stderr",
     "output_type": "stream",
     "text": [
      "fatal: destination path 'data' already exists and is not an empty directory.\n"
     ]
    }
   ],
   "source": [
    "! git clone https://gist.github.com/dmarcosg/d01e120a4e33d4c11de30091259ed51e data"
   ]
  },
  {
   "cell_type": "markdown",
   "metadata": {
    "id": "9dYNkBetdtLd"
   },
   "source": [
    "Now we can load `data2d.csv`, which contains 200 data points and 2 variables."
   ]
  },
  {
   "cell_type": "code",
   "execution_count": 6,
   "metadata": {
    "id": "hEeWUFKxgSz5",
    "tags": []
   },
   "outputs": [],
   "source": [
    "data2d = pd.read_csv('data/data2d.csv',header=None)\n",
    "\n",
    "## Convert toy 2D data from pandas to numpy array\n",
    "data2d = np.array(data2d)"
   ]
  },
  {
   "cell_type": "markdown",
   "metadata": {
    "id": "Spm3LSYqtoTY"
   },
   "source": [
    "# **K-Means implementation and toy 2D data**\n",
    "\n",
    "We have seen how k-means works during the lectures. First use one or more code cells to experiment with the different operations you will need:\n",
    "\n",
    "\n",
    "*   Initialize the cluster centroids using `K` randomly selected data points. One way to do this is by using the `random.sample()` function.\n",
    "*   Compute the distance between each data point and each cluster centroid. This can be efficiently done by using the `pairwise_distances` function included in the `sklearn` package.\n",
    "*   Find the nearest cluster centroid for each data point. One way is to use the `numpy` function `argmin()`.\n",
    "*   Update each cluster centroid by computing the mean of all data points assigned to it.\n",
    "\n",
    "\n",
    "\n"
   ]
  },
  {
   "cell_type": "markdown",
   "metadata": {
    "id": "D6zAA44txXd6"
   },
   "source": [
    "### **Let's start by taking a look at the data**"
   ]
  },
  {
   "cell_type": "code",
   "execution_count": 52,
   "metadata": {
    "colab": {
     "base_uri": "https://localhost:8080/",
     "height": 297
    },
    "id": "KQ6fmU47Coff",
    "outputId": "77a33c03-0f79-4e7e-ded7-71178b0530b8",
    "tags": []
   },
   "outputs": [
    {
     "data": {
      "text/plain": [
       "Text(0, 0.5, 'Variable 1')"
      ]
     },
     "execution_count": 52,
     "metadata": {},
     "output_type": "execute_result"
    },
    {
     "data": {
      "image/png": "[encoded data removed]",
      "text/plain": [
       "<Figure size 640x480 with 1 Axes>"
      ]
     },
     "metadata": {},
     "output_type": "display_data"
    }
   ],
   "source": [
    "## Visualize the 2D data\n",
    "\n",
    "plt.scatter(data2d[:,0],data2d[:,1])\n",
    "plt.xlabel('Variable 0')\n",
    "plt.ylabel('Variable 1')"
   ]
  },
  {
   "cell_type": "code",
   "execution_count": 53,
   "metadata": {
    "tags": []
   },
   "outputs": [],
   "source": [
    "seed = 123\n",
    "np.random.seed(seed)\n",
    "random.seed(seed)\n",
    "os.environ['PYTHONHASHSEED'] = str(seed)"
   ]
  },
  {
   "cell_type": "markdown",
   "metadata": {
    "id": "6ULXgf4BB4LQ"
   },
   "source": [
    "**``Action 1``**\n",
    "\n",
    "`` Initialize the cluster centroids``"
   ]
  },
  {
   "cell_type": "code",
   "execution_count": 50,
   "metadata": {
    "id": "k6VVR-JmulMA",
    "tags": []
   },
   "outputs": [],
   "source": [
    "K = 4\n",
    "\n",
    "## TODO: Choose K data points as initial cluster centroids\n",
    "random_indeces = random.sample(range(K),K)\n",
    "cluster_centroids = [np.random.rand(K)*(np.max(data2d[:,0]) - np.min(data2d[:,0])) + np.min(data2d[:,0]), np.random.rand(K)*(np.max(data2d[:,1]) - np.min(data2d[:,1])) + np.min(data2d[:,1])]"
   ]
  },
  {
   "cell_type": "markdown",
   "metadata": {
    "id": "JHmnB7LoBjdj"
   },
   "source": [
    "**``Question 1``**\n",
    "\n",
    "`` Why do we randomly select existing data points for the initialization, instead of just assigning random values?``"
   ]
  },
  {
   "cell_type": "markdown",
   "metadata": {
    "id": "DJZ_2f0qI_CN"
   },
   "source": [
    "**``Action 2``**\n",
    "\n",
    "`` Compute distance between all data points and all centroids (which should result in a matrix of distances of shape [N,K], with N the number of data points and K the number of clusters) and get the closest centroid to each data point (which should result in a vector of shape [N] where each entry is an integer between 0 and K-1).``"
   ]
  },
  {
   "cell_type": "code",
   "execution_count": null,
   "metadata": {
    "id": "p8qsSUHJHZRb"
   },
   "outputs": [],
   "source": [
    "## TODO: Compute distance between all data points and all centroids\n",
    "distances = ...\n",
    "\n",
    "## TODO: Get the closest centroid to each data point\n",
    "cluster_assignments = ..."
   ]
  },
  {
   "cell_type": "code",
   "execution_count": null,
   "metadata": {
    "id": "HU9pfLq-Ie4n"
   },
   "outputs": [],
   "source": [
    "## Plot the cluster assignments with this code\n",
    "for i in range(K):\n",
    "    plt.scatter(data2d[cluster_assignments==i,0],data2d[cluster_assignments==i,1])\n",
    "    plt.xlabel('Variable 0')\n",
    "    plt.ylabel('Variable 1')\n",
    "plt.show()"
   ]
  },
  {
   "cell_type": "markdown",
   "metadata": {
    "id": "kWwJfW3_I_pn"
   },
   "source": [
    "**``Question 2``**\n",
    "\n",
    "`` If you haven't used any data normalization, you might find surprising the centroid assignment. Why do you think is that?``"
   ]
  },
  {
   "cell_type": "markdown",
   "metadata": {
    "id": "9q5ZXRI-TvPx"
   },
   "source": [
    "**``Action 3``**\n",
    "\n",
    "`` Go back to Actions 1 and 2 but, this time, normalize the data such that both variables have a similar range.``"
   ]
  },
  {
   "cell_type": "markdown",
   "metadata": {
    "id": "dKWUstEVUIsw"
   },
   "source": [
    "**``Question 3``**\n",
    "\n",
    "`` What effect does the normalization have in the cluster assignment?``"
   ]
  },
  {
   "cell_type": "markdown",
   "metadata": {
    "id": "xbzUI1W3UjMP"
   },
   "source": [
    "**``Action 4``**\n",
    "\n",
    "`` Fill in the next code cell to implement the cluster centroid update.``"
   ]
  },
  {
   "cell_type": "code",
   "execution_count": null,
   "metadata": {
    "id": "KAvpSH5OI5wx"
   },
   "outputs": [],
   "source": [
    "## TODO: Update the centroids\n",
    "for i in range(K):\n",
    "    cluster_centroids[i,:] = ..."
   ]
  },
  {
   "cell_type": "markdown",
   "metadata": {
    "id": "KHd5IBJEUyao"
   },
   "source": [
    "**``Question 4``**\n",
    "\n",
    "`` What happens to the cluster centroids after you update them?``"
   ]
  },
  {
   "cell_type": "markdown",
   "metadata": {
    "id": "mUabzRPWVG_f"
   },
   "source": [
    "**``Action 5``**\n",
    "\n",
    "`` Fill in the following function definition to create your own K-Means function.``"
   ]
  },
  {
   "cell_type": "code",
   "execution_count": null,
   "metadata": {
    "id": "apmjDhJ_DOjR"
   },
   "outputs": [],
   "source": [
    "def my_kmeans(data,K=4,maxiter=10,do_plot=False):\n",
    "    ## TODO: Choose K data points as initial cluster centroids\n",
    "\n",
    "    ## Loop over iterations\n",
    "    for iter in range(maxiter):\n",
    "        ## TODO: Compute distance between all data points and all centroids\n",
    "\n",
    "        ## TODO: Get the closest centroid to each data point\n",
    "\n",
    "        ## TODO: Update the centroids\n",
    "\n",
    "        ## Optionally, plot the data and assignments. Only for 2D data.\n",
    "        if do_plot:\n",
    "            for i in range(K):\n",
    "                plt.scatter(data[cluster_assignments==i,0],data[cluster_assignments==i,1])\n",
    "                plt.xlabel('Variable 0')\n",
    "                plt.ylabel('Variable 1')\n",
    "                plt.show()\n",
    "    return cluster_assignments, cluster_centroids"
   ]
  },
  {
   "cell_type": "code",
   "execution_count": null,
   "metadata": {
    "id": "-xhmKTbCVpn3"
   },
   "outputs": [],
   "source": [
    "## Run your implemented kmeans function on the 2D data\n",
    "my_kmeans(data2d,do_plot=True)"
   ]
  },
  {
   "cell_type": "markdown",
   "metadata": {
    "id": "WSv3La8aVZUx"
   },
   "source": [
    "**``Question 5``**\n",
    "\n",
    "`` What happens to the cluster centroids as the iterations progress? When do they stop changing?``"
   ]
  },
  {
   "cell_type": "markdown",
   "metadata": {
    "id": "4helxs7ZWCI1"
   },
   "source": [
    "# **Exploring some real data about cities**\n",
    "\n",
    "This dataset containts several features concerning urban areas in OECD countries. Start by running the following code cell and taking a look at the loaded variables. `data_cities` contains the eight variables, `feature_names` contains the names of the variables and `regions` contains the name of the geographic region where each city is located."
   ]
  },
  {
   "cell_type": "code",
   "execution_count": null,
   "metadata": {
    "id": "AvEQbnEyWK3O"
   },
   "outputs": [],
   "source": [
    "## Read the .csv files\n",
    "country_regions = pd.read_csv('data/country_codes.csv')\n",
    "oecd_cities_stats = pd.read_csv('data/oecd_cities_stats.csv')\n",
    "\n",
    "## Extract the variables and their names\n",
    "data_cities = np.array(oecd_cities_stats.iloc[1:,1:],dtype=np.float32)\n",
    "number_of_variables = data_cities.shape[1]\n",
    "feature_names = list(oecd_cities_stats.columns.values[1:])\n",
    "\n",
    "## Extract the country codes and region name of each city\n",
    "country_codes = []\n",
    "regions = []\n",
    "for name in oecd_cities_stats['Metropolitan areas'][1:]:\n",
    "  country_codes.append(name[0:2])\n",
    "  regions.append(country_regions[name[0:2]][1])\n",
    "regions = np.array(regions)\n",
    "country_codes = np.array(country_codes)"
   ]
  },
  {
   "cell_type": "markdown",
   "metadata": {
    "id": "vJQHntjWkrVI"
   },
   "source": [
    "**``Action 6``**\n",
    "\n",
    "``Run K-Means clustering on data_cities.``"
   ]
  },
  {
   "cell_type": "code",
   "execution_count": null,
   "metadata": {
    "id": "kB-p4d8EmTSp"
   },
   "outputs": [],
   "source": [
    "## TODO: Run K-Means clustering on data_cities\n",
    "K = 4\n",
    "# Normalize data_cities if needed\n",
    "cluster_assignments, cluster_centroids = my_kmeans(data_cities,K=K)"
   ]
  },
  {
   "cell_type": "markdown",
   "metadata": {
    "id": "dSJmbGK5qd_l"
   },
   "source": [
    "**``Question 6``**\n",
    "\n",
    "``Do you think it is important to normalize the data also in this case?``"
   ]
  },
  {
   "cell_type": "markdown",
   "metadata": {
    "id": "SEMftFzWqpyP"
   },
   "source": [
    "**``Action 7``**\n",
    "\n",
    "``Use the provided code to visualize each centroid.``"
   ]
  },
  {
   "cell_type": "code",
   "execution_count": null,
   "metadata": {
    "colab": {
     "base_uri": "https://localhost:8080/",
     "height": 300
    },
    "id": "90tSmA9_XhD6",
    "outputId": "ca9a8318-9358-4fca-97f6-ae5f2f975876"
   },
   "outputs": [
    {
     "data": {
      "image/png": "[encoded data removed]",
      "text/plain": [
       "<Figure size 1440x216 with 4 Axes>"
      ]
     },
     "metadata": {
      "needs_background": "light"
     },
     "output_type": "display_data"
    }
   ],
   "source": [
    "fig, ax = plt.subplots(1,K,figsize=(5*K, 3))\n",
    "for i in range(K):\n",
    "  ax[i].bar(np.arange(number_of_variables),cluster_centroids[i,:])\n",
    "  ax[i].set_xticks(np.arange(number_of_variables))\n",
    "  ax[i].set_xticklabels(feature_names,rotation = 90)"
   ]
  },
  {
   "cell_type": "markdown",
   "metadata": {
    "id": "vZBuSvj8rTMR"
   },
   "source": [
    "**``Question 7``**\n",
    "\n",
    "``What are the main characteristics of each cluster?``"
   ]
  },
  {
   "cell_type": "markdown",
   "metadata": {
    "id": "UPF9UB6qrjkM"
   },
   "source": [
    "**``Action 8``**\n",
    "\n",
    "``It would also be informative to know which regions are associated with each cluster. Starting with the previous code cell, plot pie charts displaying the proportions of each region per cluster. For this, you will find the numpy function unique() very useful. Take a look at the documentation to make sure that it returns both the unique regions present and the counts. For the pie charts, matplotlib has a plt.pie() function that will do the job.``"
   ]
  },
  {
   "cell_type": "code",
   "execution_count": null,
   "metadata": {
    "id": "S2w3nn2vs8AF"
   },
   "outputs": [],
   "source": [
    "## TODO: Plot region proportions per cluster"
   ]
  },
  {
   "cell_type": "markdown",
   "metadata": {
    "id": "JPcK0yzOtCwy"
   },
   "source": [
    "**``Question 8``**\n",
    "\n",
    "``Discuss some characteristics of each region by looking at both the bar plots and the pie charts.``"
   ]
  }
 ],
 "metadata": {
  "colab": {
   "collapsed_sections": [],
   "name": "MGI_W3_groupwork_clustering.ipynb",
   "provenance": []
  },
  "kernelspec": {
   "display_name": "Python 3 (ipykernel)",
   "language": "python",
   "name": "python3"
  },
  "language_info": {
   "codemirror_mode": {
    "name": "ipython",
    "version": 3
   },
   "file_extension": ".py",
   "mimetype": "text/x-python",
   "name": "python",
   "nbconvert_exporter": "python",
   "pygments_lexer": "ipython3",
   "version": "3.11.0"
  }
 },
 "nbformat": 4,
 "nbformat_minor": 4
}
