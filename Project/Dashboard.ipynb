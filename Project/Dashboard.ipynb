{
 "cells": [
  {
   "cell_type": "code",
   "execution_count": 60,
   "id": "36cc2f0a-68eb-422b-af34-40900cf4e1f3",
   "metadata": {
    "tags": []
   },
   "outputs": [],
   "source": [
    "import dash\n",
    "from dash import Dash, dcc, html, callback, callback_context, dash_table\n",
    "import dash_bootstrap_components as dbc\n",
    "from dash_bootstrap_templates import load_figure_template\n",
    "import dash_daq as daq\n",
    "from jupyter_dash import JupyterDash\n",
    "from dash.dependencies import Input, Output, State\n",
    "\n",
    "import plotly.express as px\n",
    "import plotly.graph_objects as go\n",
    "\n",
    "import geopandas as gpd\n",
    "import pandas as pd\n",
    "\n",
    "import statsmodels.api as sm\n",
    "from sklearn.neighbors import KNeighborsRegressor\n",
    "\n",
    "from Functions import read_data, fit_regression, get_metrics, get_predicted_GeoJSON"
   ]
  },
  {
   "cell_type": "code",
   "execution_count": 61,
   "id": "17aedabc-cfd7-48f0-ae0c-3a5489a2a899",
   "metadata": {
    "tags": []
   },
   "outputs": [],
   "source": [
    "# Read the data that will be used\n",
    "X_train, X_test, y_train, y_test = read_data()\n",
    "# To avoid reading the geojson everytime we update the map\n",
    "nuts2 = gpd.read_file('https://gisco-services.ec.europa.eu/distribution/v2/nuts/geojson/NUTS_RG_01M_2016_4326_LEVL_2.geojson')"
   ]
  },
  {
   "cell_type": "code",
   "execution_count": 62,
   "id": "af20f7d5-c926-47e4-93c7-c1ada252a434",
   "metadata": {},
   "outputs": [
    {
     "name": "stdout",
     "output_type": "stream",
     "text": [
      "Dash app running on http://127.0.0.1:8070/\n"
     ]
    }
   ],
   "source": [
    "app = JupyterDash(__name__, external_stylesheets=[dbc.themes.DARKLY])\n",
    "\n",
    "load_figure_template([\"darkly\"])\n",
    "color = 'darkgreen'\n",
    "font_s = {'font-family' : 'bahnschrift'}\n",
    "\n",
    "app.layout = html.Div([html.H1('Machine Learning Dashbord', style=font_s),\n",
    "                       html.Div([''], style = {'height':15, 'background-color':color}),\n",
    "                       html.Div([html.Div([' '], style = {'width':15}),\n",
    "                                 html.Div([html.Div([' '], style = {'height':20}),\n",
    "                                           html.H2('Regression algorithms', style = font_s),\n",
    "                                           html.H3('Choose a model:', style = font_s),\n",
    "                                           dcc.Dropdown(['Linear Regression', 'KNN Regression'],\n",
    "                                                        'Linear Regression',\n",
    "                                                        id = 'Model',\n",
    "                                                        style={'font-family' : 'bahnschrift','width':440}),\n",
    "                                           html.H4('Additional parameters:', style = font_s),\n",
    "                                           html.Div([html.B('   K=', style = {'font-family' : 'bahnschrift','width':440}),\n",
    "                                                     daq.NumericInput(min=1,\n",
    "                                                                      max=30,\n",
    "                                                                      value=3,\n",
    "                                                                      style = {'font-family' : 'bahnschrift'},\n",
    "                                                                      id='K')], \n",
    "                                                    style={'display':'flex', 'width':440}),\n",
    "                                           html.Div([html.B('   YEAR=', style = {'font-family' : 'bahnschrift','width':440}),\n",
    "                                                     daq.NumericInput(min=1999,\n",
    "                                                                      max=2018,\n",
    "                                                                      value=2012,\n",
    "                                                                      style = {'font-family' : 'bahnschrift'},\n",
    "                                                                      id='YEAR')], \n",
    "                                                    style={'display':'flex', 'width':440}),\n",
    "                                           html.H5('Metrics:', style = font_s),\n",
    "                                           dash_table.DataTable(id= 'metrics_table', \n",
    "                                                                style_header={'backgroundColor': color,'fontWeight': 'bold'},\n",
    "                                                                style_cell={'textAlign': 'center', 'backgroundColor':'gray'},\n",
    "                                                                style_table={'width':440}, cell_selectable = False, \n",
    "                                                                style_as_list_view=True)]),\n",
    "                                 html.Div([' '], style = {'width':15}),\n",
    "                                 html.Div([' '], style = {'width':20,'background-color':color}),\n",
    "                                 html.Div([' '], style = {'width':15}),\n",
    "                                 html.Div([html.Div([''], style = {'height':15}),\n",
    "                                           html.H3('Crop yield predictions', style = font_s),\n",
    "                                           dcc.Graph(id=\"Yield_Pred\", style = {'width':1380, 'height' : 480}),\n",
    "                                           html.Div([''], style = {'height':15}),\n",
    "                                           html.H3('Error estimations', style = font_s)],\n",
    "                                           # dcc.Graph(id=\"error_Pred\", style = {'width':1400, 'height' : 450})],\n",
    "                                         )],\n",
    "                                style={'display':'flex', 'width':1880, 'height':880, 'overflow':'auto'}),\n",
    "], style = {'overflow':'auto', 'height':1000})\n",
    "\n",
    "\n",
    "@app.callback(\n",
    "    [Output('metrics_table', 'data'),Output('K', 'disabled'), Output('Yield_Pred', 'figure')],\n",
    "    [Input('Model','value'),Input('K','value'), Input('YEAR','value')]\n",
    ")\n",
    "\n",
    "def update_metrics_n_map(model, K, year):\n",
    "    \n",
    "    if model == 'Linear Regression':\n",
    "        K_not_needed = True\n",
    "        model, y_pred = fit_regression('LR', X_train, X_test, y_train, y_test)\n",
    "        df = get_predicted_GeoJSON(nuts2, 'LR', year)\n",
    "        \n",
    "    elif model == 'KNN Regression':\n",
    "        K_not_needed = False\n",
    "        model, y_pred = fit_regression('KNN', X_train, X_test, y_train, y_test, K)\n",
    "        df = get_predicted_GeoJSON(nuts2, 'KNN', year, K)\n",
    "\n",
    "    fig = px.choropleth_mapbox(df, \n",
    "                               geojson=df.geometry, \n",
    "                               locations = df.index,\n",
    "                               color='est_crop_yield',\n",
    "                               color_continuous_scale=\"greens\",\n",
    "                               range_color=(35, 55),\n",
    "                               mapbox_style=\"carto-positron\",\n",
    "                               zoom=6, center = {\"lat\": 51.97, \"lon\": 5.67}\n",
    "                              )\n",
    "    fig.update_layout(margin={\"r\":0,\"t\":0,\"l\":0,\"b\":0})\n",
    "    \n",
    "    return get_metrics(y_test,y_pred), K_not_needed, fig\n",
    "    \n",
    "\n",
    "if __name__ == '__main__':\n",
    "    app.run_server(debug=True, port = 8070, )"
   ]
  },
  {
   "cell_type": "code",
   "execution_count": 10,
   "id": "319b78e8-e9e7-4e07-8695-f5a0eb83de0c",
   "metadata": {
    "tags": []
   },
   "outputs": [],
   "source": []
  }
 ],
 "metadata": {
  "kernelspec": {
   "display_name": "Python 3 (ipykernel)",
   "language": "python",
   "name": "python3"
  },
  "language_info": {
   "codemirror_mode": {
    "name": "ipython",
    "version": 3
   },
   "file_extension": ".py",
   "mimetype": "text/x-python",
   "name": "python",
   "nbconvert_exporter": "python",
   "pygments_lexer": "ipython3",
   "version": "3.11.0"
  }
 },
 "nbformat": 4,
 "nbformat_minor": 5
}
